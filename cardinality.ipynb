## Calcula a cardinalidade de um dataset. 

def CalculaCardinalidade(Dataset):
    # seleciona as colunas que possuam valores categóricos
    cols = Dataset.columns
    num_cols = Dataset._get_numeric_data().columns
    features=list(set(cols) - set(num_cols))
    for i in features: 
        print('Cardinalidade da variável', i,' é',len(Dataset[i].unique()))


# importa dataset
Titanic = pd.read_csv('train.csv')
# calcula a cardinalidade
CalculaCardinalidade(Titanic)

# resultado
Cardinalidade da variável Sex  é 2
Cardinalidade da variável Cabin  é 148
Cardinalidade da variável Embarked  é 4
Cardinalidade da variável Ticket  é 681
Cardinalidade da variável Name  é 891
